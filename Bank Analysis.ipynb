{
 "cells": [
  {
   "cell_type": "markdown",
   "id": "716c7a02",
   "metadata": {},
   "source": [
    "## Bank Transactions Analysis"
   ]
  },
  {
   "cell_type": "markdown",
   "id": "e7236862-a2ee-4a95-a429-130a72b20fed",
   "metadata": {},
   "source": [
    "### Sub-question 1: Building Clusters to Identify Different Customer Populations\n",
    "\n",
    "1. **Exploratory Data Analysis (EDA) and Data Cleaning**:\n",
    "   - Examine the dataset for patterns, anomalies, outliers, and trends.\n",
    "   - Clean the data by handling missing values, removing duplicates, and addressing any inconsistencies.\n",
    "\n",
    "2. **Feature Engineering**:\n",
    "   - Create new features based on existing data that might be relevant for clustering (e.g., transaction frequency, average transaction amount).\n",
    "\n",
    "3. **Dimensionality Reduction with PCA**:\n",
    "   - Apply Principal Component Analysis (PCA) to reduce the dataset's dimensionality while retaining the most significant information.\n",
    "   - This step will prepare the data for effective clustering.\n",
    "\n",
    "4. **Clustering with K-means**:\n",
    "   - Perform K-means clustering on the PCA-transformed data.\n",
    "   - Determine the optimal number of clusters (k) using methods like the elbow method.\n",
    "\n",
    "5. **Cluster Interpretation**:\n",
    "   - Analyze each cluster to understand the characteristics of the customer populations they represent.\n",
    "\n",
    "### Sub-question 2: Analyzing Customers' Spending Behavior Using Clusters\n",
    "\n",
    "1. **Spending Behavior Analysis**:\n",
    "   - For each cluster, analyze key spending behavior metrics like average transaction value, transaction frequency, and categories of spending.\n",
    "\n",
    "2. **Comparative Analysis**:\n",
    "   - Compare the spending behaviors across different clusters to identify distinct patterns or similarities.\n",
    "\n",
    "### Sub-question 3: Analyzing Customers' Account Balance Using Clusters\n",
    "\n",
    "1. **Balance Analysis**:\n",
    "   - Investigate the account balance characteristics within each cluster.\n",
    "   - Look for patterns such as average balance, frequency of high-balance accounts, etc.\n",
    "\n",
    "2. **Comparative Analysis**:\n",
    "   - Compare the account balance trends across clusters to discern any notable differences or commonalities."
   ]
  },
  {
   "cell_type": "code",
   "execution_count": 1,
   "id": "181c6777-e990-4853-991c-36e65c941105",
   "metadata": {},
   "outputs": [],
   "source": [
    "# Importing important libraries\n",
    "\n",
    "import pandas as pd\n",
    "import numpy as np\n",
    "from datetime import datetime\n",
    "from sklearn.decomposition import PCA\n",
    "from sklearn.preprocessing import StandardScaler\n",
    "from sklearn.cluster import KMeans\n",
    "import matplotlib.pyplot as plt\n",
    "import seaborn as sns"
   ]
  },
  {
   "cell_type": "code",
   "execution_count": 2,
   "id": "12502690-b7ca-4dfb-af2d-58179c403ead",
   "metadata": {},
   "outputs": [],
   "source": [
    "# Load the dataset\n",
    "file_path = 'bank_transactions.csv'\n",
    "# bank_data = pd.read_csv(file_path)\n",
    "sample_data = pd.read_csv(file_path)"
   ]
  },
  {
   "cell_type": "code",
   "execution_count": 3,
   "id": "064c3e6b-ebdf-4bae-b54c-51c412b8d2bb",
   "metadata": {},
   "outputs": [],
   "source": [
    "# sample_data = bank_data.sample(frac=0.5, random_state=42) # Take 50% of data"
   ]
  },
  {
   "cell_type": "markdown",
   "id": "b3905780",
   "metadata": {},
   "source": [
    "### Exploratory Data Analysis (EDA) and Data Cleaning By Ziya, Blaise and Kelvin"
   ]
  },
  {
   "cell_type": "code",
   "execution_count": 4,
   "id": "41010599-a085-40fd-86be-23185fe68c34",
   "metadata": {},
   "outputs": [
    {
     "name": "stdout",
     "output_type": "stream",
     "text": [
      "<class 'pandas.core.frame.DataFrame'>\n",
      "RangeIndex: 1048567 entries, 0 to 1048566\n",
      "Data columns (total 9 columns):\n",
      " #   Column                   Non-Null Count    Dtype  \n",
      "---  ------                   --------------    -----  \n",
      " 0   TransactionID            1048567 non-null  object \n",
      " 1   CustomerID               1048567 non-null  object \n",
      " 2   CustomerDOB              1045170 non-null  object \n",
      " 3   CustGender               1047467 non-null  object \n",
      " 4   CustLocation             1048416 non-null  object \n",
      " 5   CustAccountBalance       1046198 non-null  float64\n",
      " 6   TransactionDate          1048567 non-null  object \n",
      " 7   TransactionTime          1048567 non-null  int64  \n",
      " 8   TransactionAmount (INR)  1048567 non-null  float64\n",
      "dtypes: float64(2), int64(1), object(6)\n",
      "memory usage: 72.0+ MB\n"
     ]
    }
   ],
   "source": [
    "# Display basic information and the first few rows of the dataset\n",
    "basic_info = sample_data.info()\n",
    "first_rows = sample_data.head()"
   ]
  },
  {
   "cell_type": "code",
   "execution_count": 5,
   "id": "c30ba194-8340-4aab-82de-38e848ac973a",
   "metadata": {},
   "outputs": [
    {
     "data": {
      "text/html": [
       "<div>\n",
       "<style scoped>\n",
       "    .dataframe tbody tr th:only-of-type {\n",
       "        vertical-align: middle;\n",
       "    }\n",
       "\n",
       "    .dataframe tbody tr th {\n",
       "        vertical-align: top;\n",
       "    }\n",
       "\n",
       "    .dataframe thead th {\n",
       "        text-align: right;\n",
       "    }\n",
       "</style>\n",
       "<table border=\"1\" class=\"dataframe\">\n",
       "  <thead>\n",
       "    <tr style=\"text-align: right;\">\n",
       "      <th></th>\n",
       "      <th>TransactionID</th>\n",
       "      <th>CustomerID</th>\n",
       "      <th>CustomerDOB</th>\n",
       "      <th>CustGender</th>\n",
       "      <th>CustLocation</th>\n",
       "      <th>CustAccountBalance</th>\n",
       "      <th>TransactionDate</th>\n",
       "      <th>TransactionTime</th>\n",
       "      <th>TransactionAmount (INR)</th>\n",
       "    </tr>\n",
       "  </thead>\n",
       "  <tbody>\n",
       "    <tr>\n",
       "      <th>0</th>\n",
       "      <td>T1</td>\n",
       "      <td>C5841053</td>\n",
       "      <td>10/1/94</td>\n",
       "      <td>F</td>\n",
       "      <td>JAMSHEDPUR</td>\n",
       "      <td>17819.05</td>\n",
       "      <td>2/8/16</td>\n",
       "      <td>143207</td>\n",
       "      <td>25.0</td>\n",
       "    </tr>\n",
       "    <tr>\n",
       "      <th>1</th>\n",
       "      <td>T2</td>\n",
       "      <td>C2142763</td>\n",
       "      <td>4/4/57</td>\n",
       "      <td>M</td>\n",
       "      <td>JHAJJAR</td>\n",
       "      <td>2270.69</td>\n",
       "      <td>2/8/16</td>\n",
       "      <td>141858</td>\n",
       "      <td>27999.0</td>\n",
       "    </tr>\n",
       "    <tr>\n",
       "      <th>2</th>\n",
       "      <td>T3</td>\n",
       "      <td>C4417068</td>\n",
       "      <td>26/11/96</td>\n",
       "      <td>F</td>\n",
       "      <td>MUMBAI</td>\n",
       "      <td>17874.44</td>\n",
       "      <td>2/8/16</td>\n",
       "      <td>142712</td>\n",
       "      <td>459.0</td>\n",
       "    </tr>\n",
       "    <tr>\n",
       "      <th>3</th>\n",
       "      <td>T4</td>\n",
       "      <td>C5342380</td>\n",
       "      <td>14/9/73</td>\n",
       "      <td>F</td>\n",
       "      <td>MUMBAI</td>\n",
       "      <td>866503.21</td>\n",
       "      <td>2/8/16</td>\n",
       "      <td>142714</td>\n",
       "      <td>2060.0</td>\n",
       "    </tr>\n",
       "    <tr>\n",
       "      <th>4</th>\n",
       "      <td>T5</td>\n",
       "      <td>C9031234</td>\n",
       "      <td>24/3/88</td>\n",
       "      <td>F</td>\n",
       "      <td>NAVI MUMBAI</td>\n",
       "      <td>6714.43</td>\n",
       "      <td>2/8/16</td>\n",
       "      <td>181156</td>\n",
       "      <td>1762.5</td>\n",
       "    </tr>\n",
       "  </tbody>\n",
       "</table>\n",
       "</div>"
      ],
      "text/plain": [
       "  TransactionID CustomerID CustomerDOB CustGender CustLocation  \\\n",
       "0            T1   C5841053     10/1/94          F   JAMSHEDPUR   \n",
       "1            T2   C2142763      4/4/57          M      JHAJJAR   \n",
       "2            T3   C4417068    26/11/96          F       MUMBAI   \n",
       "3            T4   C5342380     14/9/73          F       MUMBAI   \n",
       "4            T5   C9031234     24/3/88          F  NAVI MUMBAI   \n",
       "\n",
       "   CustAccountBalance TransactionDate  TransactionTime  \\\n",
       "0            17819.05          2/8/16           143207   \n",
       "1             2270.69          2/8/16           141858   \n",
       "2            17874.44          2/8/16           142712   \n",
       "3           866503.21          2/8/16           142714   \n",
       "4             6714.43          2/8/16           181156   \n",
       "\n",
       "   TransactionAmount (INR)  \n",
       "0                     25.0  \n",
       "1                  27999.0  \n",
       "2                    459.0  \n",
       "3                   2060.0  \n",
       "4                   1762.5  "
      ]
     },
     "execution_count": 5,
     "metadata": {},
     "output_type": "execute_result"
    }
   ],
   "source": [
    "first_rows"
   ]
  },
  {
   "cell_type": "markdown",
   "id": "bc0142f2-f7da-4e43-9aa4-71270821e9f8",
   "metadata": {},
   "source": [
    "**Here's a brief overview of the columns**:\n",
    "\n",
    "1. **TransactionID**: Unique identifier for each transaction.\n",
    "2. **CustomerID**: Unique identifier for each customer.\n",
    "3. **CustomerDOB**: Date of birth of the customer.\n",
    "4. **CustGender**: Gender of the customer.\n",
    "5. **CustLocation**: Location of the customer.\n",
    "6. **CustAccountBalance**: Account balance of the customer.\n",
    "7. **TransactionDate**: Date of the transaction.\n",
    "8. **TransactionTime**: Time of the transaction (in HHMMSS format).\n",
    "9. **TransactionAmount (INR)**: Amount of the transaction in Indian Rupees."
   ]
  },
  {
   "cell_type": "markdown",
   "id": "ff3d0cc0-030a-4aa7-bfc4-f220a980dd4b",
   "metadata": {},
   "source": [
    "### Steps for EDA and Data Cleaning:\n",
    "\n",
    "1. **Data Type Conversion**:\n",
    "   - Convert `CustomerDOB` and `TransactionDate` to datetime format for easier analysis.\n",
    "   - Check if `TransactionTime` needs conversion or parsing.\n",
    "\n",
    "2. **Age Calculation**:\n",
    "   - Calculate customers' age from `CustomerDOB` for demographic analysis.\n",
    "\n",
    "3. **Data Integrity Check**:\n",
    "   - Verify the uniqueness of `TransactionID` and `CustomerID`.\n",
    "   - Check for any anomalies in numerical columns like negative balances or transaction amounts.\n",
    "\n",
    "4. **Summary Statistics**:\n",
    "   - Generate summary statistics for numerical columns to understand distributions and potential outliers."
   ]
  },
  {
   "cell_type": "code",
   "execution_count": 6,
   "id": "5654ea37-f344-4d66-8037-204d17f2dfb6",
   "metadata": {},
   "outputs": [],
   "source": [
    "# Convert 'CustomerDOB' and 'TransactionDate' to datetime objects\n",
    "sample_data['CustomerDOB'] = pd.to_datetime(sample_data['CustomerDOB'], format='%d/%m/%y', errors='coerce')\n",
    "sample_data['TransactionDate'] = pd.to_datetime(sample_data['TransactionDate'], format='%d/%m/%y', errors='coerce')"
   ]
  },
  {
   "cell_type": "code",
   "execution_count": 7,
   "id": "a3a6fa5d-6c9d-4b47-a1f4-8c367157cbf4",
   "metadata": {},
   "outputs": [],
   "source": [
    "# Fixing any incorrect DOB due to two-digit year format\n",
    "current_year = datetime.now().year\n",
    "sample_data['CustomerDOB'] = sample_data['CustomerDOB'].apply(lambda x: x if x.year <= current_year else x.replace(year=x.year - 100))"
   ]
  },
  {
   "cell_type": "code",
   "execution_count": 8,
   "id": "99fbe0ed-198d-418b-9e5f-6350bcf00a38",
   "metadata": {},
   "outputs": [],
   "source": [
    "# Calculate age of customers\n",
    "sample_data['Age'] = sample_data['CustomerDOB'].apply(lambda x: current_year - x.year)"
   ]
  },
  {
   "cell_type": "code",
   "execution_count": 9,
   "id": "620de32d-931b-483b-bb5d-4b2cf816fd76",
   "metadata": {},
   "outputs": [],
   "source": [
    "# Data integrity checks\n",
    "unique_transaction_id = sample_data['TransactionID'].nunique() == len(sample_data)\n",
    "unique_customer_id = sample_data['CustomerID'].nunique()"
   ]
  },
  {
   "cell_type": "code",
   "execution_count": 10,
   "id": "ee302737-d0e8-41de-abb4-7291f047cd18",
   "metadata": {},
   "outputs": [],
   "source": [
    "# Summary statistics for numerical columns\n",
    "summary_statistics = sample_data.describe()"
   ]
  },
  {
   "cell_type": "code",
   "execution_count": 11,
   "id": "6d304c62-257d-43c4-91c5-2744f881383b",
   "metadata": {},
   "outputs": [
    {
     "data": {
      "text/plain": [
       "True"
      ]
     },
     "execution_count": 11,
     "metadata": {},
     "output_type": "execute_result"
    }
   ],
   "source": [
    "unique_transaction_id"
   ]
  },
  {
   "cell_type": "code",
   "execution_count": 12,
   "id": "8cf131de-cc6d-4fa1-85fb-52c07efde23b",
   "metadata": {},
   "outputs": [
    {
     "data": {
      "text/plain": [
       "884265"
      ]
     },
     "execution_count": 12,
     "metadata": {},
     "output_type": "execute_result"
    }
   ],
   "source": [
    "unique_customer_id"
   ]
  },
  {
   "cell_type": "code",
   "execution_count": 13,
   "id": "d51b635a-af50-491f-9d20-183a0895498d",
   "metadata": {},
   "outputs": [
    {
     "data": {
      "text/html": [
       "<div>\n",
       "<style scoped>\n",
       "    .dataframe tbody tr th:only-of-type {\n",
       "        vertical-align: middle;\n",
       "    }\n",
       "\n",
       "    .dataframe tbody tr th {\n",
       "        vertical-align: top;\n",
       "    }\n",
       "\n",
       "    .dataframe thead th {\n",
       "        text-align: right;\n",
       "    }\n",
       "</style>\n",
       "<table border=\"1\" class=\"dataframe\">\n",
       "  <thead>\n",
       "    <tr style=\"text-align: right;\">\n",
       "      <th></th>\n",
       "      <th>CustomerDOB</th>\n",
       "      <th>CustAccountBalance</th>\n",
       "      <th>TransactionDate</th>\n",
       "      <th>TransactionTime</th>\n",
       "      <th>TransactionAmount (INR)</th>\n",
       "      <th>Age</th>\n",
       "    </tr>\n",
       "  </thead>\n",
       "  <tbody>\n",
       "    <tr>\n",
       "      <th>count</th>\n",
       "      <td>987831</td>\n",
       "      <td>1.046198e+06</td>\n",
       "      <td>1048567</td>\n",
       "      <td>1.048567e+06</td>\n",
       "      <td>1.048567e+06</td>\n",
       "      <td>987831.000000</td>\n",
       "    </tr>\n",
       "    <tr>\n",
       "      <th>mean</th>\n",
       "      <td>1985-06-20 10:20:28.502446208</td>\n",
       "      <td>1.154035e+05</td>\n",
       "      <td>2016-08-25 04:33:33.797497600</td>\n",
       "      <td>1.570875e+05</td>\n",
       "      <td>1.574335e+03</td>\n",
       "      <td>39.029973</td>\n",
       "    </tr>\n",
       "    <tr>\n",
       "      <th>min</th>\n",
       "      <td>1925-05-06 00:00:00</td>\n",
       "      <td>0.000000e+00</td>\n",
       "      <td>2016-08-01 00:00:00</td>\n",
       "      <td>0.000000e+00</td>\n",
       "      <td>0.000000e+00</td>\n",
       "      <td>0.000000</td>\n",
       "    </tr>\n",
       "    <tr>\n",
       "      <th>25%</th>\n",
       "      <td>1982-02-09 00:00:00</td>\n",
       "      <td>4.721760e+03</td>\n",
       "      <td>2016-08-12 00:00:00</td>\n",
       "      <td>1.240300e+05</td>\n",
       "      <td>1.610000e+02</td>\n",
       "      <td>33.000000</td>\n",
       "    </tr>\n",
       "    <tr>\n",
       "      <th>50%</th>\n",
       "      <td>1987-09-13 00:00:00</td>\n",
       "      <td>1.679218e+04</td>\n",
       "      <td>2016-08-25 00:00:00</td>\n",
       "      <td>1.642260e+05</td>\n",
       "      <td>4.590300e+02</td>\n",
       "      <td>37.000000</td>\n",
       "    </tr>\n",
       "    <tr>\n",
       "      <th>75%</th>\n",
       "      <td>1991-05-12 00:00:00</td>\n",
       "      <td>5.765736e+04</td>\n",
       "      <td>2016-09-06 00:00:00</td>\n",
       "      <td>2.000100e+05</td>\n",
       "      <td>1.200000e+03</td>\n",
       "      <td>42.000000</td>\n",
       "    </tr>\n",
       "    <tr>\n",
       "      <th>max</th>\n",
       "      <td>2024-02-09 00:00:00</td>\n",
       "      <td>1.150355e+08</td>\n",
       "      <td>2016-10-21 00:00:00</td>\n",
       "      <td>2.359590e+05</td>\n",
       "      <td>1.560035e+06</td>\n",
       "      <td>99.000000</td>\n",
       "    </tr>\n",
       "    <tr>\n",
       "      <th>std</th>\n",
       "      <td>NaN</td>\n",
       "      <td>8.464854e+05</td>\n",
       "      <td>NaN</td>\n",
       "      <td>5.126185e+04</td>\n",
       "      <td>6.574743e+03</td>\n",
       "      <td>8.761894</td>\n",
       "    </tr>\n",
       "  </tbody>\n",
       "</table>\n",
       "</div>"
      ],
      "text/plain": [
       "                         CustomerDOB  CustAccountBalance  \\\n",
       "count                         987831        1.046198e+06   \n",
       "mean   1985-06-20 10:20:28.502446208        1.154035e+05   \n",
       "min              1925-05-06 00:00:00        0.000000e+00   \n",
       "25%              1982-02-09 00:00:00        4.721760e+03   \n",
       "50%              1987-09-13 00:00:00        1.679218e+04   \n",
       "75%              1991-05-12 00:00:00        5.765736e+04   \n",
       "max              2024-02-09 00:00:00        1.150355e+08   \n",
       "std                              NaN        8.464854e+05   \n",
       "\n",
       "                     TransactionDate  TransactionTime  \\\n",
       "count                        1048567     1.048567e+06   \n",
       "mean   2016-08-25 04:33:33.797497600     1.570875e+05   \n",
       "min              2016-08-01 00:00:00     0.000000e+00   \n",
       "25%              2016-08-12 00:00:00     1.240300e+05   \n",
       "50%              2016-08-25 00:00:00     1.642260e+05   \n",
       "75%              2016-09-06 00:00:00     2.000100e+05   \n",
       "max              2016-10-21 00:00:00     2.359590e+05   \n",
       "std                              NaN     5.126185e+04   \n",
       "\n",
       "       TransactionAmount (INR)            Age  \n",
       "count             1.048567e+06  987831.000000  \n",
       "mean              1.574335e+03      39.029973  \n",
       "min               0.000000e+00       0.000000  \n",
       "25%               1.610000e+02      33.000000  \n",
       "50%               4.590300e+02      37.000000  \n",
       "75%               1.200000e+03      42.000000  \n",
       "max               1.560035e+06      99.000000  \n",
       "std               6.574743e+03       8.761894  "
      ]
     },
     "execution_count": 13,
     "metadata": {},
     "output_type": "execute_result"
    }
   ],
   "source": [
    "summary_statistics"
   ]
  },
  {
   "cell_type": "markdown",
   "id": "bd0ab700-4cb6-43a8-8335-d9c916830394",
   "metadata": {},
   "source": [
    "The data integrity checks and summary statistics reveal the following insights:\n",
    "\n",
    "**1. Data Integrity**:\n",
    "   - All `TransactionID` values are unique, indicating each record represents a distinct transaction.\n",
    "   - There are 884265 unique `CustomerID` values, confirming each row corresponds to a different customer."
   ]
  },
  {
   "cell_type": "markdown",
   "id": "0be4f5a0-7395-42c7-9199-c2985dc374d5",
   "metadata": {},
   "source": [
    "**2. Summary Statistics**:\n",
    "\n",
    "1. **Customer Age**:\n",
    "   - The dates of birth for customers span from as early as February 2, 1924, pointing to a wide age range among customers.\n",
    "   - The average birth date falls on June 20, 1985, indicating that the median customer age is around 38 years old.\n",
    "   - The youngest customer is aged 0, and the oldest is 99 years old, although the age of 0 might indicate missing or incorrect data.\n",
    "\n",
    "2. **Account Balance**:\n",
    "   - Customer account balances vary significantly, with an average balance of approximately 115,403.50 INR.\n",
    "   - The minimum account balance is 0 INR, suggesting some accounts might be dormant, newly opened, or overdrawn to a zero balance.\n",
    "   - The maximum account balance is a substantial 115,035,500 INR, showing that the dataset includes accounts with very high balances.\n",
    "   - The standard deviation is quite large at 846,485 INR, indicating a high variability in account balances among customers.\n",
    "\n",
    "3. **Transaction Details**:\n",
    "   - Transaction dates range from August 1, 2016, to October 21, 2016.\n",
    "   - Transaction times span the entire possible range from 00:00:00 to 23:59:59, showing that transactions are recorded at all hours.\n",
    "   - The average transaction amount is 1,574.34 INR with a substantial maximum transaction amount of 1,560,035 INR, indicating that the dataset includes both typical day-to-day transactions as well as some very large transactions."
   ]
  },
  {
   "cell_type": "markdown",
   "id": "1f4cb2ed",
   "metadata": {},
   "source": [
    "### Creating new features By Kelvin"
   ]
  },
  {
   "cell_type": "code",
   "execution_count": 14,
   "id": "3135895b-080f-4d46-b4b8-d9f99f6757ea",
   "metadata": {},
   "outputs": [],
   "source": [
    "# Transaction Frequency per Customer\n",
    "transaction_frequency = sample_data.groupby('CustomerID').size().rename('TransactionFrequency')"
   ]
  },
  {
   "cell_type": "code",
   "execution_count": 15,
   "id": "d9e22dd2-fb8e-4a51-83ef-435e1b064a15",
   "metadata": {},
   "outputs": [],
   "source": [
    "# Average Transaction Amount per Customer\n",
    "average_transaction_amount = sample_data.groupby('CustomerID')['TransactionAmount (INR)'].mean().rename('AverageTransactionAmount')"
   ]
  },
  {
   "cell_type": "code",
   "execution_count": 16,
   "id": "4cfc39ba-26a7-43d2-acc7-1636edb93307",
   "metadata": {},
   "outputs": [],
   "source": [
    "# Categorizing Age Groups\n",
    "bins = [0, 25, 35, 45, 55, 65, 100]\n",
    "labels = ['18-25', '26-35', '36-45', '46-55', '56-65', '66+']\n",
    "sample_data['AgeGroup'] = pd.cut(sample_data['Age'], bins=bins, labels=labels, right=False)"
   ]
  },
  {
   "cell_type": "code",
   "execution_count": 17,
   "id": "9396f782-77d1-4394-a4e1-957bd5f167c0",
   "metadata": {},
   "outputs": [],
   "source": [
    "# Combining the new features with the original dataset\n",
    "enhanced_data = sample_data.join(transaction_frequency, on='CustomerID')\n",
    "enhanced_data = enhanced_data.join(average_transaction_amount, on='CustomerID')"
   ]
  },
  {
   "cell_type": "code",
   "execution_count": 18,
   "id": "95a54334-4b1e-4415-8916-e3f0cab082ae",
   "metadata": {},
   "outputs": [
    {
     "data": {
      "text/html": [
       "<div>\n",
       "<style scoped>\n",
       "    .dataframe tbody tr th:only-of-type {\n",
       "        vertical-align: middle;\n",
       "    }\n",
       "\n",
       "    .dataframe tbody tr th {\n",
       "        vertical-align: top;\n",
       "    }\n",
       "\n",
       "    .dataframe thead th {\n",
       "        text-align: right;\n",
       "    }\n",
       "</style>\n",
       "<table border=\"1\" class=\"dataframe\">\n",
       "  <thead>\n",
       "    <tr style=\"text-align: right;\">\n",
       "      <th></th>\n",
       "      <th>TransactionID</th>\n",
       "      <th>CustomerID</th>\n",
       "      <th>CustomerDOB</th>\n",
       "      <th>CustGender</th>\n",
       "      <th>CustLocation</th>\n",
       "      <th>CustAccountBalance</th>\n",
       "      <th>TransactionDate</th>\n",
       "      <th>TransactionTime</th>\n",
       "      <th>TransactionAmount (INR)</th>\n",
       "      <th>Age</th>\n",
       "      <th>AgeGroup</th>\n",
       "      <th>TransactionFrequency</th>\n",
       "      <th>AverageTransactionAmount</th>\n",
       "    </tr>\n",
       "  </thead>\n",
       "  <tbody>\n",
       "    <tr>\n",
       "      <th>0</th>\n",
       "      <td>T1</td>\n",
       "      <td>C5841053</td>\n",
       "      <td>1994-01-10</td>\n",
       "      <td>F</td>\n",
       "      <td>JAMSHEDPUR</td>\n",
       "      <td>17819.05</td>\n",
       "      <td>2016-08-02</td>\n",
       "      <td>143207</td>\n",
       "      <td>25.0</td>\n",
       "      <td>30.0</td>\n",
       "      <td>26-35</td>\n",
       "      <td>1</td>\n",
       "      <td>25.0</td>\n",
       "    </tr>\n",
       "    <tr>\n",
       "      <th>1</th>\n",
       "      <td>T2</td>\n",
       "      <td>C2142763</td>\n",
       "      <td>1957-04-04</td>\n",
       "      <td>M</td>\n",
       "      <td>JHAJJAR</td>\n",
       "      <td>2270.69</td>\n",
       "      <td>2016-08-02</td>\n",
       "      <td>141858</td>\n",
       "      <td>27999.0</td>\n",
       "      <td>67.0</td>\n",
       "      <td>66+</td>\n",
       "      <td>1</td>\n",
       "      <td>27999.0</td>\n",
       "    </tr>\n",
       "    <tr>\n",
       "      <th>2</th>\n",
       "      <td>T3</td>\n",
       "      <td>C4417068</td>\n",
       "      <td>1996-11-26</td>\n",
       "      <td>F</td>\n",
       "      <td>MUMBAI</td>\n",
       "      <td>17874.44</td>\n",
       "      <td>2016-08-02</td>\n",
       "      <td>142712</td>\n",
       "      <td>459.0</td>\n",
       "      <td>28.0</td>\n",
       "      <td>26-35</td>\n",
       "      <td>1</td>\n",
       "      <td>459.0</td>\n",
       "    </tr>\n",
       "    <tr>\n",
       "      <th>3</th>\n",
       "      <td>T4</td>\n",
       "      <td>C5342380</td>\n",
       "      <td>1973-09-14</td>\n",
       "      <td>F</td>\n",
       "      <td>MUMBAI</td>\n",
       "      <td>866503.21</td>\n",
       "      <td>2016-08-02</td>\n",
       "      <td>142714</td>\n",
       "      <td>2060.0</td>\n",
       "      <td>51.0</td>\n",
       "      <td>46-55</td>\n",
       "      <td>2</td>\n",
       "      <td>1469.2</td>\n",
       "    </tr>\n",
       "    <tr>\n",
       "      <th>4</th>\n",
       "      <td>T5</td>\n",
       "      <td>C9031234</td>\n",
       "      <td>1988-03-24</td>\n",
       "      <td>F</td>\n",
       "      <td>NAVI MUMBAI</td>\n",
       "      <td>6714.43</td>\n",
       "      <td>2016-08-02</td>\n",
       "      <td>181156</td>\n",
       "      <td>1762.5</td>\n",
       "      <td>36.0</td>\n",
       "      <td>36-45</td>\n",
       "      <td>1</td>\n",
       "      <td>1762.5</td>\n",
       "    </tr>\n",
       "  </tbody>\n",
       "</table>\n",
       "</div>"
      ],
      "text/plain": [
       "  TransactionID CustomerID CustomerDOB CustGender CustLocation  \\\n",
       "0            T1   C5841053  1994-01-10          F   JAMSHEDPUR   \n",
       "1            T2   C2142763  1957-04-04          M      JHAJJAR   \n",
       "2            T3   C4417068  1996-11-26          F       MUMBAI   \n",
       "3            T4   C5342380  1973-09-14          F       MUMBAI   \n",
       "4            T5   C9031234  1988-03-24          F  NAVI MUMBAI   \n",
       "\n",
       "   CustAccountBalance TransactionDate  TransactionTime  \\\n",
       "0            17819.05      2016-08-02           143207   \n",
       "1             2270.69      2016-08-02           141858   \n",
       "2            17874.44      2016-08-02           142712   \n",
       "3           866503.21      2016-08-02           142714   \n",
       "4             6714.43      2016-08-02           181156   \n",
       "\n",
       "   TransactionAmount (INR)   Age AgeGroup  TransactionFrequency  \\\n",
       "0                     25.0  30.0    26-35                     1   \n",
       "1                  27999.0  67.0      66+                     1   \n",
       "2                    459.0  28.0    26-35                     1   \n",
       "3                   2060.0  51.0    46-55                     2   \n",
       "4                   1762.5  36.0    36-45                     1   \n",
       "\n",
       "   AverageTransactionAmount  \n",
       "0                      25.0  \n",
       "1                   27999.0  \n",
       "2                     459.0  \n",
       "3                    1469.2  \n",
       "4                    1762.5  "
      ]
     },
     "execution_count": 18,
     "metadata": {},
     "output_type": "execute_result"
    }
   ],
   "source": [
    "# Preview of the enhanced dataset with new features\n",
    "enhanced_data.head()"
   ]
  },
  {
   "cell_type": "markdown",
   "id": "b6f0200c-9ed0-42eb-8e06-57d625208f4a",
   "metadata": {},
   "source": [
    "The feature engineering process has added several new features to the dataset, enhancing its potential for meaningful clustering. These features include:\n",
    "\n",
    "1. **Transaction Frequency**: The number of transactions each customer has made.\n",
    "2. **Average Transaction Amount**: The average amount of transactions for each customer.\n",
    "3. **Age Group**: Customers are categorized into age groups, allowing us to analyze patterns across different age demographics.\n",
    "\n",
    "The enhanced dataset now includes these features along with the original data, providing a more comprehensive view of each customer's transaction behavior and demographic profile."
   ]
  },
  {
   "cell_type": "markdown",
   "id": "387bc420",
   "metadata": {},
   "source": [
    "### Data Cleaning By Kelvin, Blaise and Ziya"
   ]
  },
  {
   "cell_type": "code",
   "execution_count": 19,
   "id": "f0210660-e127-43c8-8b58-ccae8d7833d1",
   "metadata": {},
   "outputs": [
    {
     "name": "stdout",
     "output_type": "stream",
     "text": [
      "Missing values in each column:\n",
      " TransactionID                   0\n",
      "CustomerID                      0\n",
      "CustomerDOB                 60736\n",
      "CustGender                   1100\n",
      "CustLocation                  151\n",
      "CustAccountBalance           2369\n",
      "TransactionDate                 0\n",
      "TransactionTime                 0\n",
      "TransactionAmount (INR)         0\n",
      "Age                         60736\n",
      "AgeGroup                    60736\n",
      "TransactionFrequency            0\n",
      "AverageTransactionAmount        0\n",
      "dtype: int64\n"
     ]
    }
   ],
   "source": [
    "# Check for Missing Values\n",
    "missing_values = enhanced_data.isna().sum()\n",
    "print(\"Missing values in each column:\\n\", missing_values)"
   ]
  },
  {
   "cell_type": "code",
   "execution_count": 20,
   "id": "44962bdc-f89e-489f-8461-5e57b0a6ecdd",
   "metadata": {},
   "outputs": [
    {
     "data": {
      "text/plain": [
       "TransactionID                       object\n",
       "CustomerID                          object\n",
       "CustomerDOB                 datetime64[ns]\n",
       "CustGender                          object\n",
       "CustLocation                        object\n",
       "CustAccountBalance                 float64\n",
       "TransactionDate             datetime64[ns]\n",
       "TransactionTime                      int64\n",
       "TransactionAmount (INR)            float64\n",
       "Age                                float64\n",
       "AgeGroup                          category\n",
       "TransactionFrequency                 int64\n",
       "AverageTransactionAmount           float64\n",
       "dtype: object"
      ]
     },
     "execution_count": 20,
     "metadata": {},
     "output_type": "execute_result"
    }
   ],
   "source": [
    "# Check datatypes\n",
    "enhanced_data.dtypes"
   ]
  },
  {
   "cell_type": "code",
   "execution_count": 21,
   "id": "7ee7379e-225d-4518-b2f0-cb674f0e7582",
   "metadata": {},
   "outputs": [],
   "source": [
    "# Handling Missing Values\n",
    "# For Numerical Columns\n",
    "for col in enhanced_data.select_dtypes(include=['float64', 'int64']):\n",
    "    enhanced_data[col].fillna(enhanced_data[col].median(), inplace=True)"
   ]
  },
  {
   "cell_type": "code",
   "execution_count": 22,
   "id": "2919846e-7792-442e-9645-c7361e0099ed",
   "metadata": {},
   "outputs": [],
   "source": [
    "# For Categorical Columns\n",
    "for col in enhanced_data.select_dtypes(include=['object', 'category']):\n",
    "    enhanced_data[col].fillna(enhanced_data[col].mode()[0], inplace=True)"
   ]
  },
  {
   "cell_type": "code",
   "execution_count": 23,
   "id": "17831d1c-4254-4506-9e24-fed83c92503b",
   "metadata": {},
   "outputs": [],
   "source": [
    "enhanced_data.dropna(subset=['CustomerDOB'], inplace=True)"
   ]
  },
  {
   "cell_type": "code",
   "execution_count": 24,
   "id": "829c0150-f051-40d9-8c05-5c6a0b5b7ec4",
   "metadata": {},
   "outputs": [
    {
     "name": "stdout",
     "output_type": "stream",
     "text": [
      "Missing values in each column:\n",
      " TransactionID               0\n",
      "CustomerID                  0\n",
      "CustomerDOB                 0\n",
      "CustGender                  0\n",
      "CustLocation                0\n",
      "CustAccountBalance          0\n",
      "TransactionDate             0\n",
      "TransactionTime             0\n",
      "TransactionAmount (INR)     0\n",
      "Age                         0\n",
      "AgeGroup                    0\n",
      "TransactionFrequency        0\n",
      "AverageTransactionAmount    0\n",
      "dtype: int64\n"
     ]
    }
   ],
   "source": [
    "# Check again for Missing Values\n",
    "missing_values = enhanced_data.isna().sum()\n",
    "print(\"Missing values in each column:\\n\", missing_values)"
   ]
  },
  {
   "cell_type": "markdown",
   "id": "e7e72ca8",
   "metadata": {},
   "source": [
    "### PCA By Ziya"
   ]
  },
  {
   "cell_type": "code",
   "execution_count": 25,
   "id": "824d67d6-f356-4f27-ae7e-94033590310f",
   "metadata": {},
   "outputs": [],
   "source": [
    "# Selecting numerical features for PCA\n",
    "numerical_features = ['CustAccountBalance', 'TransactionTime', 'TransactionAmount (INR)', 'Age', 'TransactionFrequency', 'AverageTransactionAmount']\n",
    "numerical_data = enhanced_data[numerical_features]"
   ]
  },
  {
   "cell_type": "code",
   "execution_count": 26,
   "id": "34b106d6-6679-448c-9471-85a34550f300",
   "metadata": {},
   "outputs": [],
   "source": [
    "# Standardizing the data\n",
    "scaler = StandardScaler()\n",
    "scaled_data = scaler.fit_transform(numerical_data)"
   ]
  },
  {
   "cell_type": "code",
   "execution_count": 27,
   "id": "5530445c-e0c5-48d7-9cc1-2ecf2c26fa64",
   "metadata": {},
   "outputs": [],
   "source": [
    "# Fit PCA without specifying the number of components to get them all\n",
    "pca = PCA()\n",
    "pca.fit(scaled_data)\n",
    "explained_variance = pca.explained_variance_ratio_"
   ]
  },
  {
   "cell_type": "code",
   "execution_count": 28,
   "id": "8dd93d76-8e95-4408-baff-e74ef32a156e",
   "metadata": {},
   "outputs": [],
   "source": [
    "# Method 1: Choose the number of components that explain a certain threshold of variance\n",
    "threshold_variance = 0.90\n",
    "cumulative_variance = np.cumsum(explained_variance)\n",
    "n_components_threshold = np.argmax(cumulative_variance >= threshold_variance) + 1"
   ]
  },
  {
   "cell_type": "code",
   "execution_count": 29,
   "id": "fd5328fd-fb02-40a2-80e3-ebedf6e9c853",
   "metadata": {},
   "outputs": [
    {
     "data": {
      "image/png": "[encoded data removed]",
      "text/plain": [
       "<Figure size 1400x500 with 2 Axes>"
      ]
     },
     "metadata": {},
     "output_type": "display_data"
    }
   ],
   "source": [
    "# Method 2: Screen plot for the elbow method\n",
    "plt.figure(figsize=(14, 5))\n",
    "\n",
    "# Subplot for the cumulative explained variance (Method 1)\n",
    "plt.subplot(1, 2, 1)\n",
    "plt.bar(range(1, len(explained_variance) + 1), explained_variance, alpha=0.5, align='center', label='Individual explained variance')\n",
    "plt.step(range(1, len(explained_variance) + 1), cumulative_variance, where='mid', label='Cumulative explained variance')\n",
    "plt.ylabel('Explained variance ratio')\n",
    "plt.xlabel('Principal component index')\n",
    "plt.legend(loc='best')\n",
    "plt.title('Explained Variance')\n",
    "\n",
    "# Subplot for the screen plot (Method 2)\n",
    "plt.subplot(1, 2, 2)\n",
    "plt.plot(range(1, len(explained_variance) + 1), explained_variance, 'o-', linewidth=2, label='Individual explained variance')\n",
    "plt.title('Screen Plot')\n",
    "plt.xlabel('Principal Components')\n",
    "plt.ylabel('Proportion of Variance Explained')\n",
    "plt.grid(True)"
   ]
  },
  {
   "cell_type": "code",
   "execution_count": 30,
   "id": "55f72fa5-5d57-43b8-8792-9e848d1a9896",
   "metadata": {},
   "outputs": [],
   "source": [
    "# Applying PCA\n",
    "pca = PCA(n_components=2)  # Reducing to 2 dimensions for visualization and analysis\n",
    "pca_result = pca.fit_transform(scaled_data)"
   ]
  },
  {
   "cell_type": "code",
   "execution_count": 31,
   "id": "190d5e75-ba8b-4688-a86e-cbfd5f5ad089",
   "metadata": {},
   "outputs": [],
   "source": [
    "# Creating a DataFrame for the PCA results\n",
    "pca_df = pd.DataFrame(data=pca_result, columns=['PCA1', 'PCA2'])"
   ]
  },
  {
   "cell_type": "code",
   "execution_count": 32,
   "id": "f78dac5d-e84b-4a80-9c98-8adfea0fa339",
   "metadata": {},
   "outputs": [],
   "source": [
    "# Variance explained by each principal component\n",
    "explained_variance = pca.explained_variance_ratio_"
   ]
  },
  {
   "cell_type": "code",
   "execution_count": 33,
   "id": "8a726c0b-3359-407b-9f4d-015c8786e3ec",
   "metadata": {},
   "outputs": [
    {
     "data": {
      "text/html": [
       "<div>\n",
       "<style scoped>\n",
       "    .dataframe tbody tr th:only-of-type {\n",
       "        vertical-align: middle;\n",
       "    }\n",
       "\n",
       "    .dataframe tbody tr th {\n",
       "        vertical-align: top;\n",
       "    }\n",
       "\n",
       "    .dataframe thead th {\n",
       "        text-align: right;\n",
       "    }\n",
       "</style>\n",
       "<table border=\"1\" class=\"dataframe\">\n",
       "  <thead>\n",
       "    <tr style=\"text-align: right;\">\n",
       "      <th></th>\n",
       "      <th>PCA1</th>\n",
       "      <th>PCA2</th>\n",
       "    </tr>\n",
       "  </thead>\n",
       "  <tbody>\n",
       "    <tr>\n",
       "      <th>0</th>\n",
       "      <td>-0.511180</td>\n",
       "      <td>-0.695081</td>\n",
       "    </tr>\n",
       "    <tr>\n",
       "      <th>1</th>\n",
       "      <td>6.665463</td>\n",
       "      <td>0.934731</td>\n",
       "    </tr>\n",
       "    <tr>\n",
       "      <th>2</th>\n",
       "      <td>-0.445154</td>\n",
       "      <td>-0.865963</td>\n",
       "    </tr>\n",
       "    <tr>\n",
       "      <th>3</th>\n",
       "      <td>0.372301</td>\n",
       "      <td>1.591110</td>\n",
       "    </tr>\n",
       "    <tr>\n",
       "      <th>4</th>\n",
       "      <td>0.009139</td>\n",
       "      <td>-0.357102</td>\n",
       "    </tr>\n",
       "  </tbody>\n",
       "</table>\n",
       "</div>"
      ],
      "text/plain": [
       "       PCA1      PCA2\n",
       "0 -0.511180 -0.695081\n",
       "1  6.665463  0.934731\n",
       "2 -0.445154 -0.865963\n",
       "3  0.372301  1.591110\n",
       "4  0.009139 -0.357102"
      ]
     },
     "execution_count": 33,
     "metadata": {},
     "output_type": "execute_result"
    }
   ],
   "source": [
    "pca_df.head()"
   ]
  },
  {
   "cell_type": "code",
   "execution_count": 34,
   "id": "409c4171-fee7-4476-87c5-c70e24143653",
   "metadata": {},
   "outputs": [
    {
     "data": {
      "text/plain": [
       "array([0.32647786, 0.18232541])"
      ]
     },
     "execution_count": 34,
     "metadata": {},
     "output_type": "execute_result"
    }
   ],
   "source": [
    "explained_variance"
   ]
  },
  {
   "cell_type": "markdown",
   "id": "963f9e2d-34db-4df5-97e6-00f35060c2d7",
   "metadata": {},
   "source": [
    "The PCA process has been completed after handling the NaN values. The PCA results are as follows:\n",
    "\n",
    "- The dataset has been reduced to two principal components (PCA1 and PCA2).\n",
    "- The first principal component (PCA1) explains approximately 32.64% of the variance in the dataset.\n",
    "- The second principal component (PCA2) explains about 18.23% of the variance.\n",
    "\n",
    "Together, these two components account for roughly 50.86% of the total variance in the data. This reduction provides a simplified yet representative view of the multi-dimensional data, which can be beneficial for clustering and visualization."
   ]
  },
  {
   "cell_type": "markdown",
   "id": "b9de0a29",
   "metadata": {},
   "source": [
    "### Creating Clusters By Blaise"
   ]
  },
  {
   "cell_type": "code",
   "execution_count": 35,
   "id": "5c83b048-de67-4af0-a040-8b5ba3c66259",
   "metadata": {},
   "outputs": [],
   "source": [
    "# Finding the optimal number of clusters using the elbow method\n",
    "wcss = []  # Within-cluster sum of squares\n",
    "for i in range(1, 11):\n",
    "    kmeans = KMeans(n_clusters=i, init='k-means++', max_iter=300, n_init=10, random_state=0)\n",
    "    kmeans.fit(pca_df)\n",
    "    wcss.append(kmeans.inertia_)"
   ]
  },
  {
   "cell_type": "code",
   "execution_count": 36,
   "id": "f1175d0b-fda3-46dc-a606-7d6603a2ea54",
   "metadata": {},
   "outputs": [
    {
     "data": {
      "image/png": "[encoded data removed]",
      "text/plain": [
       "<Figure size 1000x600 with 1 Axes>"
      ]
     },
     "metadata": {},
     "output_type": "display_data"
    }
   ],
   "source": [
    "# Plotting the results onto a line graph to observe the 'elbow'\n",
    "plt.figure(figsize=(10, 6))\n",
    "plt.plot(range(1, 11), wcss, 'bx-')\n",
    "plt.title('The Elbow Method')\n",
    "plt.xlabel('Number of clusters')\n",
    "plt.ylabel('WCSS')  # Within-cluster sum of squares\n",
    "plt.show()"
   ]
  },
  {
   "cell_type": "code",
   "execution_count": 37,
   "id": "4fc58a11-eac0-4078-a9f4-b10ac1079f66",
   "metadata": {},
   "outputs": [],
   "source": [
    "# Based on the Elbow Method, let's choose an optimal number of clusters\n",
    "optimal_clusters = 4"
   ]
  },
  {
   "cell_type": "code",
   "execution_count": 38,
   "id": "bed09b2f-cc62-4547-9127-5a42552c0808",
   "metadata": {},
   "outputs": [
    {
     "data": {
      "text/html": [
       "<style>#sk-container-id-1 {color: black;}#sk-container-id-1 pre{padding: 0;}#sk-container-id-1 div.sk-toggleable {background-color: white;}#sk-container-id-1 label.sk-toggleable__label {cursor: pointer;display: block;width: 100%;margin-bottom: 0;padding: 0.3em;box-sizing: border-box;text-align: center;}#sk-container-id-1 label.sk-toggleable__label-arrow:before {content: \"▸\";float: left;margin-right: 0.25em;color: #696969;}#sk-container-id-1 label.sk-toggleable__label-arrow:hover:before {color: black;}#sk-container-id-1 div.sk-estimator:hover label.sk-toggleable__label-arrow:before {color: black;}#sk-container-id-1 div.sk-toggleable__content {max-height: 0;max-width: 0;overflow: hidden;text-align: left;background-color: #f0f8ff;}#sk-container-id-1 div.sk-toggleable__content pre {margin: 0.2em;color: black;border-radius: 0.25em;background-color: #f0f8ff;}#sk-container-id-1 input.sk-toggleable__control:checked~div.sk-toggleable__content {max-height: 200px;max-width: 100%;overflow: auto;}#sk-container-id-1 input.sk-toggleable__control:checked~label.sk-toggleable__label-arrow:before {content: \"▾\";}#sk-container-id-1 div.sk-estimator input.sk-toggleable__control:checked~label.sk-toggleable__label {background-color: #d4ebff;}#sk-container-id-1 div.sk-label input.sk-toggleable__control:checked~label.sk-toggleable__label {background-color: #d4ebff;}#sk-container-id-1 input.sk-hidden--visually {border: 0;clip: rect(1px 1px 1px 1px);clip: rect(1px, 1px, 1px, 1px);height: 1px;margin: -1px;overflow: hidden;padding: 0;position: absolute;width: 1px;}#sk-container-id-1 div.sk-estimator {font-family: monospace;background-color: #f0f8ff;border: 1px dotted black;border-radius: 0.25em;box-sizing: border-box;margin-bottom: 0.5em;}#sk-container-id-1 div.sk-estimator:hover {background-color: #d4ebff;}#sk-container-id-1 div.sk-parallel-item::after {content: \"\";width: 100%;border-bottom: 1px solid gray;flex-grow: 1;}#sk-container-id-1 div.sk-label:hover label.sk-toggleable__label {background-color: #d4ebff;}#sk-container-id-1 div.sk-serial::before {content: \"\";position: absolute;border-left: 1px solid gray;box-sizing: border-box;top: 0;bottom: 0;left: 50%;z-index: 0;}#sk-container-id-1 div.sk-serial {display: flex;flex-direction: column;align-items: center;background-color: white;padding-right: 0.2em;padding-left: 0.2em;position: relative;}#sk-container-id-1 div.sk-item {position: relative;z-index: 1;}#sk-container-id-1 div.sk-parallel {display: flex;align-items: stretch;justify-content: center;background-color: white;position: relative;}#sk-container-id-1 div.sk-item::before, #sk-container-id-1 div.sk-parallel-item::before {content: \"\";position: absolute;border-left: 1px solid gray;box-sizing: border-box;top: 0;bottom: 0;left: 50%;z-index: -1;}#sk-container-id-1 div.sk-parallel-item {display: flex;flex-direction: column;z-index: 1;position: relative;background-color: white;}#sk-container-id-1 div.sk-parallel-item:first-child::after {align-self: flex-end;width: 50%;}#sk-container-id-1 div.sk-parallel-item:last-child::after {align-self: flex-start;width: 50%;}#sk-container-id-1 div.sk-parallel-item:only-child::after {width: 0;}#sk-container-id-1 div.sk-dashed-wrapped {border: 1px dashed gray;margin: 0 0.4em 0.5em 0.4em;box-sizing: border-box;padding-bottom: 0.4em;background-color: white;}#sk-container-id-1 div.sk-label label {font-family: monospace;font-weight: bold;display: inline-block;line-height: 1.2em;}#sk-container-id-1 div.sk-label-container {text-align: center;}#sk-container-id-1 div.sk-container {/* jupyter's `normalize.less` sets `[hidden] { display: none; }` but bootstrap.min.css set `[hidden] { display: none !important; }` so we also need the `!important` here to be able to override the default hidden behavior on the sphinx rendered scikit-learn.org. See: https://github.com/scikit-learn/scikit-learn/issues/21755 */display: inline-block !important;position: relative;}#sk-container-id-1 div.sk-text-repr-fallback {display: none;}</style><div id=\"sk-container-id-1\" class=\"sk-top-container\"><div class=\"sk-text-repr-fallback\"><pre>KMeans(n_clusters=4, n_init=10, random_state=0)</pre><b>In a Jupyter environment, please rerun this cell to show the HTML representation or trust the notebook. <br />On GitHub, the HTML representation is unable to render, please try loading this page with nbviewer.org.</b></div><div class=\"sk-container\" hidden><div class=\"sk-item\"><div class=\"sk-estimator sk-toggleable\"><input class=\"sk-toggleable__control sk-hidden--visually\" id=\"sk-estimator-id-1\" type=\"checkbox\" checked><label for=\"sk-estimator-id-1\" class=\"sk-toggleable__label sk-toggleable__label-arrow\">KMeans</label><div class=\"sk-toggleable__content\"><pre>KMeans(n_clusters=4, n_init=10, random_state=0)</pre></div></div></div></div></div>"
      ],
      "text/plain": [
       "KMeans(n_clusters=4, n_init=10, random_state=0)"
      ]
     },
     "execution_count": 38,
     "metadata": {},
     "output_type": "execute_result"
    }
   ],
   "source": [
    "# Apply K-means clustering to the data\n",
    "kmeans = KMeans(n_clusters=optimal_clusters, init='k-means++', max_iter=300, n_init=10, random_state=0)\n",
    "kmeans.fit(pca_df)"
   ]
  },
  {
   "cell_type": "code",
   "execution_count": 39,
   "id": "3ecdda8e-09de-410d-8d66-72b3f89130dd",
   "metadata": {},
   "outputs": [],
   "source": [
    "# Assigning the cluster labels to the dataset\n",
    "cluster_labels = kmeans.labels_\n",
    "pca_df['Cluster'] = cluster_labels"
   ]
  },
  {
   "cell_type": "code",
   "execution_count": 40,
   "id": "bf16f829-4b4a-4dde-af64-af354ad2e9a7",
   "metadata": {},
   "outputs": [
    {
     "data": {
      "text/html": [
       "<div>\n",
       "<style scoped>\n",
       "    .dataframe tbody tr th:only-of-type {\n",
       "        vertical-align: middle;\n",
       "    }\n",
       "\n",
       "    .dataframe tbody tr th {\n",
       "        vertical-align: top;\n",
       "    }\n",
       "\n",
       "    .dataframe thead th {\n",
       "        text-align: right;\n",
       "    }\n",
       "</style>\n",
       "<table border=\"1\" class=\"dataframe\">\n",
       "  <thead>\n",
       "    <tr style=\"text-align: right;\">\n",
       "      <th></th>\n",
       "      <th>PCA1</th>\n",
       "      <th>PCA2</th>\n",
       "      <th>Cluster</th>\n",
       "    </tr>\n",
       "  </thead>\n",
       "  <tbody>\n",
       "    <tr>\n",
       "      <th>0</th>\n",
       "      <td>-0.511180</td>\n",
       "      <td>-0.695081</td>\n",
       "      <td>0</td>\n",
       "    </tr>\n",
       "    <tr>\n",
       "      <th>1</th>\n",
       "      <td>6.665463</td>\n",
       "      <td>0.934731</td>\n",
       "      <td>2</td>\n",
       "    </tr>\n",
       "    <tr>\n",
       "      <th>2</th>\n",
       "      <td>-0.445154</td>\n",
       "      <td>-0.865963</td>\n",
       "      <td>0</td>\n",
       "    </tr>\n",
       "    <tr>\n",
       "      <th>3</th>\n",
       "      <td>0.372301</td>\n",
       "      <td>1.591110</td>\n",
       "      <td>2</td>\n",
       "    </tr>\n",
       "    <tr>\n",
       "      <th>4</th>\n",
       "      <td>0.009139</td>\n",
       "      <td>-0.357102</td>\n",
       "      <td>0</td>\n",
       "    </tr>\n",
       "  </tbody>\n",
       "</table>\n",
       "</div>"
      ],
      "text/plain": [
       "       PCA1      PCA2  Cluster\n",
       "0 -0.511180 -0.695081        0\n",
       "1  6.665463  0.934731        2\n",
       "2 -0.445154 -0.865963        0\n",
       "3  0.372301  1.591110        2\n",
       "4  0.009139 -0.357102        0"
      ]
     },
     "execution_count": 40,
     "metadata": {},
     "output_type": "execute_result"
    }
   ],
   "source": [
    "# Displaying the first few rows with cluster labels\n",
    "pca_df.head()"
   ]
  },
  {
   "cell_type": "markdown",
   "id": "36c7a9da-e6f4-48c3-8b31-d1b2616c7820",
   "metadata": {},
   "source": [
    "Great! To interpret the clusters, we'll analyze them in the context of the original features of the dataset. This involves examining the clusters in relation to customer demographics (age, gender), geographical location, spending behavior, and account balances. The goal is to identify unique characteristics and patterns within each cluster.\n",
    "\n",
    "### Steps for Cluster Interpretation:\n",
    "\n",
    "1. **Merge Cluster Labels with Original Data**: \n",
    "   - Integrate the cluster labels back into the original dataset for comprehensive analysis.\n",
    "\n",
    "2. **Demographic Analysis**:\n",
    "   - Examine the distribution of age, gender, and location within each cluster.\n",
    "\n",
    "3. **Spending Behavior Analysis**:\n",
    "   - Analyze spending patterns in terms of transaction frequency and average transaction amount for each cluster.\n",
    "\n",
    "4. **Account Balance Analysis**:\n",
    "   - Look at the distribution of account balances within each cluster.\n",
    "\n",
    "5. **Visual Representation**:\n",
    "   - If possible, create visualizations to better understand the distribution of these features across clusters."
   ]
  },
  {
   "cell_type": "code",
   "execution_count": 41,
   "id": "41e4ab45-6e93-44ec-9809-a7de032f1072",
   "metadata": {},
   "outputs": [],
   "source": [
    "# Merging the cluster labels with the original dataset\n",
    "bank_data_with_clusters = enhanced_data.copy()\n",
    "bank_data_with_clusters['Cluster'] = pca_df['Cluster']"
   ]
  },
  {
   "cell_type": "markdown",
   "id": "19a44c84-c9fa-4858-af2d-4c5fa7930586",
   "metadata": {},
   "source": [
    "## 1. Demographic Analysis by Ziya"
   ]
  },
  {
   "cell_type": "code",
   "execution_count": 42,
   "id": "55b8969a-9bd3-4362-b3ca-959c5f6e122f",
   "metadata": {},
   "outputs": [],
   "source": [
    "# Analyzing age, gender, and location distribution within each cluster\n",
    "age_distribution = bank_data_with_clusters.groupby('Cluster')['Age'].describe()\n",
    "gender_distribution = bank_data_with_clusters.groupby('Cluster')['CustGender'].value_counts().unstack()\n",
    "location_distribution = bank_data_with_clusters.groupby('Cluster')['CustLocation'].value_counts().unstack()"
   ]
  },
  {
   "cell_type": "code",
   "execution_count": 43,
   "id": "c5684db1-7748-4856-b55b-b359bb642d6e",
   "metadata": {},
   "outputs": [
    {
     "data": {
      "text/html": [
       "<div>\n",
       "<style scoped>\n",
       "    .dataframe tbody tr th:only-of-type {\n",
       "        vertical-align: middle;\n",
       "    }\n",
       "\n",
       "    .dataframe tbody tr th {\n",
       "        vertical-align: top;\n",
       "    }\n",
       "\n",
       "    .dataframe thead th {\n",
       "        text-align: right;\n",
       "    }\n",
       "</style>\n",
       "<table border=\"1\" class=\"dataframe\">\n",
       "  <thead>\n",
       "    <tr style=\"text-align: right;\">\n",
       "      <th></th>\n",
       "      <th>count</th>\n",
       "      <th>mean</th>\n",
       "      <th>std</th>\n",
       "      <th>min</th>\n",
       "      <th>25%</th>\n",
       "      <th>50%</th>\n",
       "      <th>75%</th>\n",
       "      <th>max</th>\n",
       "    </tr>\n",
       "    <tr>\n",
       "      <th>Cluster</th>\n",
       "      <th></th>\n",
       "      <th></th>\n",
       "      <th></th>\n",
       "      <th></th>\n",
       "      <th></th>\n",
       "      <th></th>\n",
       "      <th></th>\n",
       "      <th></th>\n",
       "    </tr>\n",
       "  </thead>\n",
       "  <tbody>\n",
       "    <tr>\n",
       "      <th>0.0</th>\n",
       "      <td>789905.0</td>\n",
       "      <td>39.024421</td>\n",
       "      <td>8.756595</td>\n",
       "      <td>0.0</td>\n",
       "      <td>33.00</td>\n",
       "      <td>37.0</td>\n",
       "      <td>42.00</td>\n",
       "      <td>99.0</td>\n",
       "    </tr>\n",
       "    <tr>\n",
       "      <th>1.0</th>\n",
       "      <td>3483.0</td>\n",
       "      <td>38.671260</td>\n",
       "      <td>8.306081</td>\n",
       "      <td>21.0</td>\n",
       "      <td>33.00</td>\n",
       "      <td>37.0</td>\n",
       "      <td>42.00</td>\n",
       "      <td>88.0</td>\n",
       "    </tr>\n",
       "    <tr>\n",
       "      <th>2.0</th>\n",
       "      <td>137297.0</td>\n",
       "      <td>39.069288</td>\n",
       "      <td>8.777228</td>\n",
       "      <td>1.0</td>\n",
       "      <td>33.00</td>\n",
       "      <td>37.0</td>\n",
       "      <td>42.00</td>\n",
       "      <td>97.0</td>\n",
       "    </tr>\n",
       "    <tr>\n",
       "      <th>3.0</th>\n",
       "      <td>24.0</td>\n",
       "      <td>36.541667</td>\n",
       "      <td>8.166630</td>\n",
       "      <td>27.0</td>\n",
       "      <td>32.75</td>\n",
       "      <td>35.0</td>\n",
       "      <td>38.25</td>\n",
       "      <td>67.0</td>\n",
       "    </tr>\n",
       "  </tbody>\n",
       "</table>\n",
       "</div>"
      ],
      "text/plain": [
       "            count       mean       std   min    25%   50%    75%   max\n",
       "Cluster                                                               \n",
       "0.0      789905.0  39.024421  8.756595   0.0  33.00  37.0  42.00  99.0\n",
       "1.0        3483.0  38.671260  8.306081  21.0  33.00  37.0  42.00  88.0\n",
       "2.0      137297.0  39.069288  8.777228   1.0  33.00  37.0  42.00  97.0\n",
       "3.0          24.0  36.541667  8.166630  27.0  32.75  35.0  38.25  67.0"
      ]
     },
     "execution_count": 43,
     "metadata": {},
     "output_type": "execute_result"
    }
   ],
   "source": [
    "age_distribution"
   ]
  },
  {
   "cell_type": "code",
   "execution_count": 44,
   "id": "44f88349-7131-4712-a944-51921fe1a6ed",
   "metadata": {},
   "outputs": [],
   "source": [
    "sns.set()"
   ]
  },
  {
   "cell_type": "code",
   "execution_count": 45,
   "id": "be4dfaf6-28f3-46f3-839d-56d45d0a40f0",
   "metadata": {},
   "outputs": [
    {
     "data": {
      "image/png": "[encoded data removed]",
      "text/plain": [
       "<Figure size 1400x600 with 1 Axes>"
      ]
     },
     "metadata": {},
     "output_type": "display_data"
    }
   ],
   "source": [
    "# Plot for Age Distribution\n",
    "plt.figure(figsize=(14, 6))\n",
    "sns.histplot(data=bank_data_with_clusters, x='Age', bins=30, hue='Cluster', multiple='stack')\n",
    "plt.title('Age Distribution within Clusters')\n",
    "plt.xlabel('Age')\n",
    "plt.ylabel('Count')\n",
    "plt.show()"
   ]
  },
  {
   "cell_type": "code",
   "execution_count": 46,
   "id": "05b8f857-b577-4274-a26d-ee18a27451d0",
   "metadata": {},
   "outputs": [
    {
     "data": {
      "text/html": [
       "<div>\n",
       "<style scoped>\n",
       "    .dataframe tbody tr th:only-of-type {\n",
       "        vertical-align: middle;\n",
       "    }\n",
       "\n",
       "    .dataframe tbody tr th {\n",
       "        vertical-align: top;\n",
       "    }\n",
       "\n",
       "    .dataframe thead th {\n",
       "        text-align: right;\n",
       "    }\n",
       "</style>\n",
       "<table border=\"1\" class=\"dataframe\">\n",
       "  <thead>\n",
       "    <tr style=\"text-align: right;\">\n",
       "      <th>CustGender</th>\n",
       "      <th>F</th>\n",
       "      <th>M</th>\n",
       "    </tr>\n",
       "    <tr>\n",
       "      <th>Cluster</th>\n",
       "      <th></th>\n",
       "      <th></th>\n",
       "    </tr>\n",
       "  </thead>\n",
       "  <tbody>\n",
       "    <tr>\n",
       "      <th>0.0</th>\n",
       "      <td>218885</td>\n",
       "      <td>571020</td>\n",
       "    </tr>\n",
       "    <tr>\n",
       "      <th>1.0</th>\n",
       "      <td>1006</td>\n",
       "      <td>2477</td>\n",
       "    </tr>\n",
       "    <tr>\n",
       "      <th>2.0</th>\n",
       "      <td>38056</td>\n",
       "      <td>99241</td>\n",
       "    </tr>\n",
       "    <tr>\n",
       "      <th>3.0</th>\n",
       "      <td>7</td>\n",
       "      <td>17</td>\n",
       "    </tr>\n",
       "  </tbody>\n",
       "</table>\n",
       "</div>"
      ],
      "text/plain": [
       "CustGender       F       M\n",
       "Cluster                   \n",
       "0.0         218885  571020\n",
       "1.0           1006    2477\n",
       "2.0          38056   99241\n",
       "3.0              7      17"
      ]
     },
     "execution_count": 46,
     "metadata": {},
     "output_type": "execute_result"
    }
   ],
   "source": [
    "gender_distribution"
   ]
  },
  {
   "cell_type": "code",
   "execution_count": 47,
   "id": "eaafba37-3718-460a-8cb1-8173c501e373",
   "metadata": {},
   "outputs": [
    {
     "data": {
      "image/png": "[encoded data removed]",
      "text/plain": [
       "<Figure size 1400x600 with 1 Axes>"
      ]
     },
     "metadata": {},
     "output_type": "display_data"
    }
   ],
   "source": [
    "# Plot for Gender Distribution\n",
    "gender_distribution.plot(kind='bar', figsize=(14, 6))\n",
    "plt.title('Gender Distribution within Clusters')\n",
    "plt.xlabel('Cluster')\n",
    "plt.ylabel('Count')\n",
    "plt.show()"
   ]
  },
  {
   "cell_type": "code",
   "execution_count": 48,
   "id": "8c832bd0-fac4-49a4-927a-a8bd4e3fd4a6",
   "metadata": {},
   "outputs": [
    {
     "data": {
      "text/html": [
       "<div>\n",
       "<style scoped>\n",
       "    .dataframe tbody tr th:only-of-type {\n",
       "        vertical-align: middle;\n",
       "    }\n",
       "\n",
       "    .dataframe tbody tr th {\n",
       "        vertical-align: top;\n",
       "    }\n",
       "\n",
       "    .dataframe thead th {\n",
       "        text-align: right;\n",
       "    }\n",
       "</style>\n",
       "<table border=\"1\" class=\"dataframe\">\n",
       "  <thead>\n",
       "    <tr style=\"text-align: right;\">\n",
       "      <th>CustLocation</th>\n",
       "      <th>MUMBAI</th>\n",
       "      <th>BANGALORE</th>\n",
       "      <th>NEW DELHI</th>\n",
       "      <th>GURGAON</th>\n",
       "      <th>DELHI</th>\n",
       "      <th>NOIDA</th>\n",
       "      <th>CHENNAI</th>\n",
       "      <th>PUNE</th>\n",
       "      <th>HYDERABAD</th>\n",
       "      <th>THANE</th>\n",
       "      <th>...</th>\n",
       "      <th>AZAWL</th>\n",
       "      <th>AUBURN</th>\n",
       "      <th>ASSAGAON</th>\n",
       "      <th>ASPUR</th>\n",
       "      <th>BAGHPAT BARAUT</th>\n",
       "      <th>ABUROAD SIROHI</th>\n",
       "      <th>(WEST) DIST PALGHAR PALGHAR</th>\n",
       "      <th>(E) THANE SECTOR 3</th>\n",
       "      <th>1601944 BANGALORE</th>\n",
       "      <th>ABASAN KOLKATA</th>\n",
       "    </tr>\n",
       "    <tr>\n",
       "      <th>Cluster</th>\n",
       "      <th></th>\n",
       "      <th></th>\n",
       "      <th></th>\n",
       "      <th></th>\n",
       "      <th></th>\n",
       "      <th></th>\n",
       "      <th></th>\n",
       "      <th></th>\n",
       "      <th></th>\n",
       "      <th></th>\n",
       "      <th></th>\n",
       "      <th></th>\n",
       "      <th></th>\n",
       "      <th></th>\n",
       "      <th></th>\n",
       "      <th></th>\n",
       "      <th></th>\n",
       "      <th></th>\n",
       "      <th></th>\n",
       "      <th></th>\n",
       "      <th></th>\n",
       "    </tr>\n",
       "  </thead>\n",
       "  <tbody>\n",
       "    <tr>\n",
       "      <th>0.0</th>\n",
       "      <td>78673.0</td>\n",
       "      <td>62312.0</td>\n",
       "      <td>61319.0</td>\n",
       "      <td>56540.0</td>\n",
       "      <td>53864.0</td>\n",
       "      <td>25337.0</td>\n",
       "      <td>22062.0</td>\n",
       "      <td>19662.0</td>\n",
       "      <td>17570.0</td>\n",
       "      <td>16865.0</td>\n",
       "      <td>...</td>\n",
       "      <td>NaN</td>\n",
       "      <td>NaN</td>\n",
       "      <td>NaN</td>\n",
       "      <td>NaN</td>\n",
       "      <td>NaN</td>\n",
       "      <td>NaN</td>\n",
       "      <td>NaN</td>\n",
       "      <td>NaN</td>\n",
       "      <td>NaN</td>\n",
       "      <td>NaN</td>\n",
       "    </tr>\n",
       "    <tr>\n",
       "      <th>1.0</th>\n",
       "      <td>335.0</td>\n",
       "      <td>279.0</td>\n",
       "      <td>271.0</td>\n",
       "      <td>244.0</td>\n",
       "      <td>240.0</td>\n",
       "      <td>114.0</td>\n",
       "      <td>97.0</td>\n",
       "      <td>84.0</td>\n",
       "      <td>76.0</td>\n",
       "      <td>72.0</td>\n",
       "      <td>...</td>\n",
       "      <td>NaN</td>\n",
       "      <td>NaN</td>\n",
       "      <td>NaN</td>\n",
       "      <td>NaN</td>\n",
       "      <td>NaN</td>\n",
       "      <td>NaN</td>\n",
       "      <td>NaN</td>\n",
       "      <td>NaN</td>\n",
       "      <td>NaN</td>\n",
       "      <td>NaN</td>\n",
       "    </tr>\n",
       "    <tr>\n",
       "      <th>2.0</th>\n",
       "      <td>13544.0</td>\n",
       "      <td>10932.0</td>\n",
       "      <td>10686.0</td>\n",
       "      <td>9867.0</td>\n",
       "      <td>9331.0</td>\n",
       "      <td>4440.0</td>\n",
       "      <td>3823.0</td>\n",
       "      <td>3436.0</td>\n",
       "      <td>2988.0</td>\n",
       "      <td>2917.0</td>\n",
       "      <td>...</td>\n",
       "      <td>1.0</td>\n",
       "      <td>1.0</td>\n",
       "      <td>1.0</td>\n",
       "      <td>1.0</td>\n",
       "      <td>1.0</td>\n",
       "      <td>1.0</td>\n",
       "      <td>1.0</td>\n",
       "      <td>1.0</td>\n",
       "      <td>1.0</td>\n",
       "      <td>1.0</td>\n",
       "    </tr>\n",
       "    <tr>\n",
       "      <th>3.0</th>\n",
       "      <td>3.0</td>\n",
       "      <td>3.0</td>\n",
       "      <td>3.0</td>\n",
       "      <td>NaN</td>\n",
       "      <td>2.0</td>\n",
       "      <td>1.0</td>\n",
       "      <td>NaN</td>\n",
       "      <td>NaN</td>\n",
       "      <td>NaN</td>\n",
       "      <td>NaN</td>\n",
       "      <td>...</td>\n",
       "      <td>NaN</td>\n",
       "      <td>NaN</td>\n",
       "      <td>NaN</td>\n",
       "      <td>NaN</td>\n",
       "      <td>NaN</td>\n",
       "      <td>NaN</td>\n",
       "      <td>NaN</td>\n",
       "      <td>NaN</td>\n",
       "      <td>NaN</td>\n",
       "      <td>NaN</td>\n",
       "    </tr>\n",
       "  </tbody>\n",
       "</table>\n",
       "<p>4 rows × 8066 columns</p>\n",
       "</div>"
      ],
      "text/plain": [
       "CustLocation   MUMBAI  BANGALORE  NEW DELHI  GURGAON    DELHI    NOIDA  \\\n",
       "Cluster                                                                  \n",
       "0.0           78673.0    62312.0    61319.0  56540.0  53864.0  25337.0   \n",
       "1.0             335.0      279.0      271.0    244.0    240.0    114.0   \n",
       "2.0           13544.0    10932.0    10686.0   9867.0   9331.0   4440.0   \n",
       "3.0               3.0        3.0        3.0      NaN      2.0      1.0   \n",
       "\n",
       "CustLocation  CHENNAI     PUNE  HYDERABAD    THANE  ...  AZAWL  AUBURN  \\\n",
       "Cluster                                             ...                  \n",
       "0.0           22062.0  19662.0    17570.0  16865.0  ...    NaN     NaN   \n",
       "1.0              97.0     84.0       76.0     72.0  ...    NaN     NaN   \n",
       "2.0            3823.0   3436.0     2988.0   2917.0  ...    1.0     1.0   \n",
       "3.0               NaN      NaN        NaN      NaN  ...    NaN     NaN   \n",
       "\n",
       "CustLocation  ASSAGAON  ASPUR  BAGHPAT BARAUT  ABUROAD SIROHI  \\\n",
       "Cluster                                                         \n",
       "0.0                NaN    NaN             NaN             NaN   \n",
       "1.0                NaN    NaN             NaN             NaN   \n",
       "2.0                1.0    1.0             1.0             1.0   \n",
       "3.0                NaN    NaN             NaN             NaN   \n",
       "\n",
       "CustLocation  (WEST) DIST PALGHAR PALGHAR  (E) THANE SECTOR 3  \\\n",
       "Cluster                                                         \n",
       "0.0                                   NaN                 NaN   \n",
       "1.0                                   NaN                 NaN   \n",
       "2.0                                   1.0                 1.0   \n",
       "3.0                                   NaN                 NaN   \n",
       "\n",
       "CustLocation  1601944 BANGALORE  ABASAN KOLKATA  \n",
       "Cluster                                          \n",
       "0.0                         NaN             NaN  \n",
       "1.0                         NaN             NaN  \n",
       "2.0                         1.0             1.0  \n",
       "3.0                         NaN             NaN  \n",
       "\n",
       "[4 rows x 8066 columns]"
      ]
     },
     "execution_count": 48,
     "metadata": {},
     "output_type": "execute_result"
    }
   ],
   "source": [
    "location_distribution"
   ]
  },
  {
   "cell_type": "code",
   "execution_count": 49,
   "id": "8d61a5bf-4390-4921-855b-ab2cce3c9bac",
   "metadata": {},
   "outputs": [
    {
     "data": {
      "image/png": "[encoded data removed]",
      "text/plain": [
       "<Figure size 1400x600 with 1 Axes>"
      ]
     },
     "metadata": {},
     "output_type": "display_data"
    }
   ],
   "source": [
    "# Since location distribution can be very wide, let's focus on the top 10 locations for simplicity\n",
    "top_locations = location_distribution.iloc[:, :10]\n",
    "top_locations.plot(kind='bar', figsize=(14, 6))\n",
    "plt.title('Top 10 Locations Distribution within Clusters')\n",
    "plt.xlabel('Cluster')\n",
    "plt.ylabel('Count')\n",
    "plt.show()"
   ]
  },
  {
   "cell_type": "markdown",
   "id": "e055f3a3-ef2f-48e4-b4e3-61700be7ad0c",
   "metadata": {},
   "source": [
    "### Answer for Sub-question 1: Identifying Different Customer Populations\n",
    "\n",
    "- **Age Distribution**: Clusters 0 and 2 have a very similar age distribution, with a mean age around 38 years and a wide age range. Cluster 1 has a smaller count and a slightly lower mean age, indicating it might represent a younger demographic. Cluster 3 has a comparable mean age to the other clusters but fewer counts, possibly indicating a niche demographic.\n",
    "\n",
    "- **Gender Distribution**: In all clusters, there is a higher proportion of males (M) compared to females (F). Cluster 2 has the largest disparity between genders, whereas Cluster 1, having the fewest counts, has a more balanced gender ratio.\n",
    "\n",
    "- **Location Distribution**: Mumbai, Bangalore, and New Delhi are the top three locations across Clusters 0 and 2, which contain the majority of the data points. Cluster 1 is much smaller in size and doesn't show a clear preference for location due to the low counts. Cluster 3, while also smaller, shows some representation across top locations but includes unique entries for less common locations, suggesting a potentially more geographically diverse or dispersed customer population.\n",
    "\n",
    "Based on the distributions, we can conclude that there are distinct customer populations identifiable within the data. Cluster 0 and 2 represent the majority of customers, with a wide age range and a skew towards male customers located in major cities. Cluster 1 represents a smaller, younger demographic with a more balanced gender distribution. Cluster 3, while similar in age distribution to the other clusters, represents a smaller and potentially more geographically diverse population."
   ]
  },
  {
   "cell_type": "markdown",
   "id": "7d700936-a438-4d83-93f6-2ac65c21e5be",
   "metadata": {},
   "source": [
    "## 2. Spending Behavior Analysis by Kelvin"
   ]
  },
  {
   "cell_type": "code",
   "execution_count": 50,
   "id": "b3d0dd3d-5fca-4020-a2dc-7149bf5bf744",
   "metadata": {},
   "outputs": [],
   "source": [
    "# Analyzing transaction frequency and average transaction amount for each cluster\n",
    "transaction_frequency_analysis = bank_data_with_clusters.groupby('Cluster')['TransactionFrequency'].describe()\n",
    "average_transaction_amount_analysis = bank_data_with_clusters.groupby('Cluster')['AverageTransactionAmount'].describe()"
   ]
  },
  {
   "cell_type": "code",
   "execution_count": 51,
   "id": "ea516125-9514-4f06-9329-c7a605c16bf3",
   "metadata": {},
   "outputs": [
    {
     "data": {
      "text/html": [
       "<div>\n",
       "<style scoped>\n",
       "    .dataframe tbody tr th:only-of-type {\n",
       "        vertical-align: middle;\n",
       "    }\n",
       "\n",
       "    .dataframe tbody tr th {\n",
       "        vertical-align: top;\n",
       "    }\n",
       "\n",
       "    .dataframe thead th {\n",
       "        text-align: right;\n",
       "    }\n",
       "</style>\n",
       "<table border=\"1\" class=\"dataframe\">\n",
       "  <thead>\n",
       "    <tr style=\"text-align: right;\">\n",
       "      <th></th>\n",
       "      <th>count</th>\n",
       "      <th>mean</th>\n",
       "      <th>std</th>\n",
       "      <th>min</th>\n",
       "      <th>25%</th>\n",
       "      <th>50%</th>\n",
       "      <th>75%</th>\n",
       "      <th>max</th>\n",
       "    </tr>\n",
       "    <tr>\n",
       "      <th>Cluster</th>\n",
       "      <th></th>\n",
       "      <th></th>\n",
       "      <th></th>\n",
       "      <th></th>\n",
       "      <th></th>\n",
       "      <th></th>\n",
       "      <th></th>\n",
       "      <th></th>\n",
       "    </tr>\n",
       "  </thead>\n",
       "  <tbody>\n",
       "    <tr>\n",
       "      <th>0.0</th>\n",
       "      <td>789905.0</td>\n",
       "      <td>1.356875</td>\n",
       "      <td>0.611155</td>\n",
       "      <td>1.0</td>\n",
       "      <td>1.0</td>\n",
       "      <td>1.0</td>\n",
       "      <td>2.00</td>\n",
       "      <td>6.0</td>\n",
       "    </tr>\n",
       "    <tr>\n",
       "      <th>1.0</th>\n",
       "      <td>3483.0</td>\n",
       "      <td>1.359460</td>\n",
       "      <td>0.610542</td>\n",
       "      <td>1.0</td>\n",
       "      <td>1.0</td>\n",
       "      <td>1.0</td>\n",
       "      <td>2.00</td>\n",
       "      <td>5.0</td>\n",
       "    </tr>\n",
       "    <tr>\n",
       "      <th>2.0</th>\n",
       "      <td>137297.0</td>\n",
       "      <td>1.358289</td>\n",
       "      <td>0.614859</td>\n",
       "      <td>1.0</td>\n",
       "      <td>1.0</td>\n",
       "      <td>1.0</td>\n",
       "      <td>2.00</td>\n",
       "      <td>6.0</td>\n",
       "    </tr>\n",
       "    <tr>\n",
       "      <th>3.0</th>\n",
       "      <td>24.0</td>\n",
       "      <td>1.291667</td>\n",
       "      <td>0.550033</td>\n",
       "      <td>1.0</td>\n",
       "      <td>1.0</td>\n",
       "      <td>1.0</td>\n",
       "      <td>1.25</td>\n",
       "      <td>3.0</td>\n",
       "    </tr>\n",
       "  </tbody>\n",
       "</table>\n",
       "</div>"
      ],
      "text/plain": [
       "            count      mean       std  min  25%  50%   75%  max\n",
       "Cluster                                                        \n",
       "0.0      789905.0  1.356875  0.611155  1.0  1.0  1.0  2.00  6.0\n",
       "1.0        3483.0  1.359460  0.610542  1.0  1.0  1.0  2.00  5.0\n",
       "2.0      137297.0  1.358289  0.614859  1.0  1.0  1.0  2.00  6.0\n",
       "3.0          24.0  1.291667  0.550033  1.0  1.0  1.0  1.25  3.0"
      ]
     },
     "execution_count": 51,
     "metadata": {},
     "output_type": "execute_result"
    }
   ],
   "source": [
    "transaction_frequency_analysis"
   ]
  },
  {
   "cell_type": "code",
   "execution_count": 52,
   "id": "caaab4ca-5049-4cda-9ae2-8536f8be3530",
   "metadata": {},
   "outputs": [
    {
     "data": {
      "image/png": "[encoded data removed]",
      "text/plain": [
       "<Figure size 1400x600 with 1 Axes>"
      ]
     },
     "metadata": {},
     "output_type": "display_data"
    }
   ],
   "source": [
    "# Set the aesthetic style of the plots\n",
    "sns.set_style('whitegrid')\n",
    "\n",
    "# Plot for Transaction Frequency Analysis\n",
    "plt.figure(figsize=(14, 6))\n",
    "sns.barplot(x=transaction_frequency_analysis.index, y='mean', data=transaction_frequency_analysis.reset_index())\n",
    "plt.title('Average Transaction Frequency by Cluster')\n",
    "plt.xlabel('Cluster')\n",
    "plt.ylabel('Average Transaction Frequency')\n",
    "plt.show()"
   ]
  },
  {
   "cell_type": "code",
   "execution_count": 53,
   "id": "e42ebb0d-88d6-4f98-b4ba-30c7d285d69f",
   "metadata": {},
   "outputs": [
    {
     "data": {
      "text/html": [
       "<div>\n",
       "<style scoped>\n",
       "    .dataframe tbody tr th:only-of-type {\n",
       "        vertical-align: middle;\n",
       "    }\n",
       "\n",
       "    .dataframe tbody tr th {\n",
       "        vertical-align: top;\n",
       "    }\n",
       "\n",
       "    .dataframe thead th {\n",
       "        text-align: right;\n",
       "    }\n",
       "</style>\n",
       "<table border=\"1\" class=\"dataframe\">\n",
       "  <thead>\n",
       "    <tr style=\"text-align: right;\">\n",
       "      <th></th>\n",
       "      <th>count</th>\n",
       "      <th>mean</th>\n",
       "      <th>std</th>\n",
       "      <th>min</th>\n",
       "      <th>25%</th>\n",
       "      <th>50%</th>\n",
       "      <th>75%</th>\n",
       "      <th>max</th>\n",
       "    </tr>\n",
       "    <tr>\n",
       "      <th>Cluster</th>\n",
       "      <th></th>\n",
       "      <th></th>\n",
       "      <th></th>\n",
       "      <th></th>\n",
       "      <th></th>\n",
       "      <th></th>\n",
       "      <th></th>\n",
       "      <th></th>\n",
       "    </tr>\n",
       "  </thead>\n",
       "  <tbody>\n",
       "    <tr>\n",
       "      <th>0.0</th>\n",
       "      <td>789905.0</td>\n",
       "      <td>1478.554847</td>\n",
       "      <td>5858.420676</td>\n",
       "      <td>0.0</td>\n",
       "      <td>200.00</td>\n",
       "      <td>500.00</td>\n",
       "      <td>1225.0</td>\n",
       "      <td>1560034.99</td>\n",
       "    </tr>\n",
       "    <tr>\n",
       "      <th>1.0</th>\n",
       "      <td>3483.0</td>\n",
       "      <td>1477.971604</td>\n",
       "      <td>5382.075457</td>\n",
       "      <td>0.0</td>\n",
       "      <td>200.00</td>\n",
       "      <td>500.00</td>\n",
       "      <td>1160.5</td>\n",
       "      <td>137000.00</td>\n",
       "    </tr>\n",
       "    <tr>\n",
       "      <th>2.0</th>\n",
       "      <td>137297.0</td>\n",
       "      <td>1467.165928</td>\n",
       "      <td>5317.769715</td>\n",
       "      <td>0.0</td>\n",
       "      <td>200.00</td>\n",
       "      <td>500.00</td>\n",
       "      <td>1225.0</td>\n",
       "      <td>720001.16</td>\n",
       "    </tr>\n",
       "    <tr>\n",
       "      <th>3.0</th>\n",
       "      <td>24.0</td>\n",
       "      <td>924.440417</td>\n",
       "      <td>1666.268127</td>\n",
       "      <td>29.0</td>\n",
       "      <td>136.75</td>\n",
       "      <td>261.81</td>\n",
       "      <td>998.5</td>\n",
       "      <td>7513.50</td>\n",
       "    </tr>\n",
       "  </tbody>\n",
       "</table>\n",
       "</div>"
      ],
      "text/plain": [
       "            count         mean          std   min     25%     50%     75%  \\\n",
       "Cluster                                                                     \n",
       "0.0      789905.0  1478.554847  5858.420676   0.0  200.00  500.00  1225.0   \n",
       "1.0        3483.0  1477.971604  5382.075457   0.0  200.00  500.00  1160.5   \n",
       "2.0      137297.0  1467.165928  5317.769715   0.0  200.00  500.00  1225.0   \n",
       "3.0          24.0   924.440417  1666.268127  29.0  136.75  261.81   998.5   \n",
       "\n",
       "                max  \n",
       "Cluster              \n",
       "0.0      1560034.99  \n",
       "1.0       137000.00  \n",
       "2.0       720001.16  \n",
       "3.0         7513.50  "
      ]
     },
     "execution_count": 53,
     "metadata": {},
     "output_type": "execute_result"
    }
   ],
   "source": [
    "average_transaction_amount_analysis"
   ]
  },
  {
   "cell_type": "code",
   "execution_count": 54,
   "id": "65cc0309-4740-44ff-8c47-234a31645ebc",
   "metadata": {},
   "outputs": [
    {
     "data": {
      "image/png": "[encoded data removed]",
      "text/plain": [
       "<Figure size 1400x600 with 1 Axes>"
      ]
     },
     "metadata": {},
     "output_type": "display_data"
    }
   ],
   "source": [
    "# Plot for Average Transaction Amount Analysis\n",
    "plt.figure(figsize=(14, 6))\n",
    "sns.barplot(x=average_transaction_amount_analysis.index, y='mean', data=average_transaction_amount_analysis.reset_index())\n",
    "plt.title('Average Transaction Amount by Cluster')\n",
    "plt.xlabel('Cluster')\n",
    "plt.ylabel('Average Transaction Amount (INR)')\n",
    "plt.show()"
   ]
  },
  {
   "cell_type": "markdown",
   "id": "a820ffc5-6c8d-4d68-a24d-343965aa8a12",
   "metadata": {},
   "source": [
    "### Answer for Sub-question 2: Analyzing Customers' Spending Behavior\n",
    "\n",
    "- **Transaction Frequency**:\n",
    "  - The average transaction frequency is quite similar across all clusters, hovering around 1.35 transactions. This suggests that customers, regardless of the cluster, transact with similar frequency.\n",
    "  - Cluster 1 has the lowest variability in transaction frequency, which might be due to the smaller size of this cluster.\n",
    "\n",
    "- **Average Transaction Amount**:\n",
    "  - Cluster 0 and 2 have a similar average transaction amount, with Cluster 2 having a slightly higher mean and a higher maximum, indicating the presence of high-value transactions in this cluster.\n",
    "  - Cluster 1 has the lowest average transaction amount, which aligns with the cluster having a younger demographic (as inferred from Sub-question 1).\n",
    "  - Cluster 3 has a mean transaction amount comparable to Cluster 0 but with lower maximum values, suggesting fewer high-value transactions.\n",
    "\n",
    "From these results, we can infer that while transaction frequency is consistent across clusters, the value of transactions varies. The clusters with the more significant number of members (0 and 2) show a higher average transaction amount, possibly indicating these customers engage in more substantial financial activities or have a higher spending capacity. Cluster 1's lower average transaction amount suggests a more conservative spending behavior, potentially reflective of a younger or less affluent demographic. Cluster 3's spending behavior is similar to Cluster 0 but seems to lack the high-value transactions found in the other large cluster (Cluster 2)."
   ]
  },
  {
   "cell_type": "markdown",
   "id": "d92abb37-898c-418d-bc6d-eeb40194243c",
   "metadata": {},
   "source": [
    "## 3. Account Balance Analysis by Blaise"
   ]
  },
  {
   "cell_type": "code",
   "execution_count": 55,
   "id": "c9bede88-77ea-459e-8dc4-009bed7e5a36",
   "metadata": {},
   "outputs": [],
   "source": [
    "# Looking at the account balance distribution within each cluster\n",
    "account_balance_distribution = bank_data_with_clusters.groupby('Cluster')['CustAccountBalance'].describe()"
   ]
  },
  {
   "cell_type": "code",
   "execution_count": 56,
   "id": "b881bb5b-2c20-4987-8550-5913e871fa12",
   "metadata": {},
   "outputs": [
    {
     "data": {
      "text/html": [
       "<div>\n",
       "<style scoped>\n",
       "    .dataframe tbody tr th:only-of-type {\n",
       "        vertical-align: middle;\n",
       "    }\n",
       "\n",
       "    .dataframe tbody tr th {\n",
       "        vertical-align: top;\n",
       "    }\n",
       "\n",
       "    .dataframe thead th {\n",
       "        text-align: right;\n",
       "    }\n",
       "</style>\n",
       "<table border=\"1\" class=\"dataframe\">\n",
       "  <thead>\n",
       "    <tr style=\"text-align: right;\">\n",
       "      <th></th>\n",
       "      <th>count</th>\n",
       "      <th>mean</th>\n",
       "      <th>std</th>\n",
       "      <th>min</th>\n",
       "      <th>25%</th>\n",
       "      <th>50%</th>\n",
       "      <th>75%</th>\n",
       "      <th>max</th>\n",
       "    </tr>\n",
       "    <tr>\n",
       "      <th>Cluster</th>\n",
       "      <th></th>\n",
       "      <th></th>\n",
       "      <th></th>\n",
       "      <th></th>\n",
       "      <th></th>\n",
       "      <th></th>\n",
       "      <th></th>\n",
       "      <th></th>\n",
       "    </tr>\n",
       "  </thead>\n",
       "  <tbody>\n",
       "    <tr>\n",
       "      <th>0.0</th>\n",
       "      <td>789905.0</td>\n",
       "      <td>105005.413822</td>\n",
       "      <td>7.832555e+05</td>\n",
       "      <td>0.00</td>\n",
       "      <td>4588.6500</td>\n",
       "      <td>16068.090</td>\n",
       "      <td>53422.1000</td>\n",
       "      <td>1.150355e+08</td>\n",
       "    </tr>\n",
       "    <tr>\n",
       "      <th>1.0</th>\n",
       "      <td>3483.0</td>\n",
       "      <td>121001.559515</td>\n",
       "      <td>9.534249e+05</td>\n",
       "      <td>0.00</td>\n",
       "      <td>4543.8300</td>\n",
       "      <td>16292.830</td>\n",
       "      <td>53892.0000</td>\n",
       "      <td>3.725486e+07</td>\n",
       "    </tr>\n",
       "    <tr>\n",
       "      <th>2.0</th>\n",
       "      <td>137297.0</td>\n",
       "      <td>105158.338761</td>\n",
       "      <td>7.659197e+05</td>\n",
       "      <td>0.00</td>\n",
       "      <td>4597.2300</td>\n",
       "      <td>16111.230</td>\n",
       "      <td>53958.7300</td>\n",
       "      <td>1.150355e+08</td>\n",
       "    </tr>\n",
       "    <tr>\n",
       "      <th>3.0</th>\n",
       "      <td>24.0</td>\n",
       "      <td>363205.785417</td>\n",
       "      <td>1.414833e+06</td>\n",
       "      <td>5.96</td>\n",
       "      <td>7095.5875</td>\n",
       "      <td>21361.355</td>\n",
       "      <td>77080.3575</td>\n",
       "      <td>6.973516e+06</td>\n",
       "    </tr>\n",
       "  </tbody>\n",
       "</table>\n",
       "</div>"
      ],
      "text/plain": [
       "            count           mean           std   min        25%        50%  \\\n",
       "Cluster                                                                      \n",
       "0.0      789905.0  105005.413822  7.832555e+05  0.00  4588.6500  16068.090   \n",
       "1.0        3483.0  121001.559515  9.534249e+05  0.00  4543.8300  16292.830   \n",
       "2.0      137297.0  105158.338761  7.659197e+05  0.00  4597.2300  16111.230   \n",
       "3.0          24.0  363205.785417  1.414833e+06  5.96  7095.5875  21361.355   \n",
       "\n",
       "                75%           max  \n",
       "Cluster                            \n",
       "0.0      53422.1000  1.150355e+08  \n",
       "1.0      53892.0000  3.725486e+07  \n",
       "2.0      53958.7300  1.150355e+08  \n",
       "3.0      77080.3575  6.973516e+06  "
      ]
     },
     "execution_count": 56,
     "metadata": {},
     "output_type": "execute_result"
    }
   ],
   "source": [
    "account_balance_distribution"
   ]
  },
  {
   "cell_type": "code",
   "execution_count": 57,
   "id": "1f251090-ac4f-4b41-a4cb-7943461aba13",
   "metadata": {},
   "outputs": [
    {
     "data": {
      "image/png": "[encoded data removed]",
      "text/plain": [
       "<Figure size 1400x600 with 1 Axes>"
      ]
     },
     "metadata": {},
     "output_type": "display_data"
    }
   ],
   "source": [
    "# Plot for Account Balance Distribution Analysis\n",
    "plt.figure(figsize=(14, 6))\n",
    "sns.boxplot(x='Cluster', y='CustAccountBalance', data=bank_data_with_clusters)\n",
    "plt.title('Account Balance Distribution by Cluster')\n",
    "plt.xlabel('Cluster')\n",
    "plt.ylabel('Customer Account Balance (INR)')\n",
    "plt.yscale('log')  # Log scale to better visualize wide distributions\n",
    "plt.show()"
   ]
  },
  {
   "cell_type": "markdown",
   "id": "b9f3d26e-08e4-4202-803e-1655bf254c7d",
   "metadata": {},
   "source": [
    "Based on the box plot of account balance distribution by cluster, here are some insights:\n",
    "\n",
    "- All clusters have a wide range of account balances, as indicated by the long whiskers in the box plots.\n",
    "- The median account balance (indicated by the line inside the box) is similar across clusters, suggesting that the typical customer has a comparable balance irrespective of the cluster they belong to.\n",
    "- Clusters 0 and 2 have a significant number of outliers with very high account balances, which are well above the 75th percentile of the data.\n",
    "- Cluster 1 has fewer outliers compared to Clusters 0 and 2, which could indicate that this cluster has fewer customers with extremely high account balances.\n",
    "- Cluster 3 has outliers similar to Clusters 0 and 2 but fewer in number, indicating that while there are customers with high account balances in this cluster, they are less prevalent than in Clusters 0 and 2.\n",
    "- The interquartile range (the height of the box), which represents the middle 50% of data, is similar across all clusters, suggesting a similar distribution of account balances for the majority of customers.\n",
    "- The account balances are positively skewed in all clusters, as seen from the placement of the median towards the lower end of the box and the long upper whiskers."
   ]
  },
  {
   "cell_type": "markdown",
   "id": "9482d40b-a5da-49ff-9bcf-0625d73b1d0b",
   "metadata": {},
   "source": [
    "### Answer for Sub-question 3: Analyzing Customers' Account Balance\n",
    "\n",
    "- **Account Balance Distribution**:\n",
    "  - Clusters 0 and 2 have a very similar account balance distribution, with a large range in balances but a comparable mean. The high standard deviation and maximum values suggest that there are significant outliers, indicating the presence of high-balance customers within these clusters.\n",
    "  - Cluster 1, while small in size, has a higher mean balance than Clusters 0 and 2, and an even greater maximum value, indicating the presence of some very high-balance accounts. This cluster could potentially represent more affluent customers.\n",
    "  - Cluster 3 has a higher mean balance compared to Clusters 0 and 2, and a maximum value that is substantial but not as high as in Cluster 1. This suggests a reasonably affluent customer base but with fewer extremely high-balance accounts.\n",
    "\n",
    "These results suggest that while Clusters 0 and 2 represent the majority of customers with a wide range of account balances, Cluster 1, despite its small size, includes some of the bank's more affluent customers. Cluster 3 seems to occupy a middle ground with generally higher balances than the majority but fewer extremely high-balance accounts than Cluster 1. This analysis could inform targeted marketing strategies or personalized financial service offerings."
   ]
  },
  {
   "cell_type": "markdown",
   "id": "863adfbc",
   "metadata": {},
   "source": [
    "### Reflection on team work\n",
    "\n",
    "As we wrap up our collaborative effort on working on this assignment for the car auction and bank transactions datasets, we, Blaise, Ziya, and Kelvin, would like to take a moment to reflect on our teamwork and the overall experience throughout the project.\n",
    "\n",
    "From the outset, we recognized the unique challenges associated with working on two distinct datasets, each presenting its own set of complexities and nuances. Our ability to effectively divide responsibilities based on individual strengths and preferences allowed us to navigate these challenges with agility and precision.\n",
    "\n",
    "The contribution of each member of the team is metioned on each step in both files (Car auction and Bank transactions).\n",
    "\n",
    "Our regular communication and collaborative decision-making processes favored a positive and inclusive working environment. We appreciated the open exchange of ideas and the constructive feedback that helped refine our work iteratively. As a team, we actively sought to leverage each other's strengths, creating a synergy that not only accelerated our progress but also enriched the quality of our work.\n",
    "\n",
    "Furthermore, our commitment to meeting deadlines and maintaining a shared project timeline allowed us to manage our time effectively and ensure a smooth workflow. We also recognized the importance of adaptability, as we encountered unforeseen challenges, and commendably adjusted our strategies accordingly.\n",
    "\n",
    "In conclusion, our collective efforts and the seamless integration of our individual contributions have resulted in a well-rounded and comprehensive set of work for both the car auction and bank transactions datasets. This experience not only deepened our understanding of building predictive modeling but also highlighted the power of collaboration in achieving impactful outcomes.\n",
    "\n",
    "We look forward to receiving your feedback.\n",
    "\n",
    "\n",
    "Blaise, Ziya, and Kelvin"
   ]
  }
 ],
 "metadata": {
  "kernelspec": {
   "display_name": "Python 3 (ipykernel)",
   "language": "python",
   "name": "python3"
  },
  "language_info": {
   "codemirror_mode": {
    "name": "ipython",
    "version": 3
   },
   "file_extension": ".py",
   "mimetype": "text/x-python",
   "name": "python",
   "nbconvert_exporter": "python",
   "pygments_lexer": "ipython3",
   "version": "3.11.5"
  }
 },
 "nbformat": 4,
 "nbformat_minor": 5
}
